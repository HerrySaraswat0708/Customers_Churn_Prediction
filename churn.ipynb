{
 "cells": [
  {
   "cell_type": "code",
   "execution_count": 1,
   "id": "c4ec349f",
   "metadata": {},
   "outputs": [],
   "source": [
    "import pandas as pd\n",
    "import numpy as np\n",
    "import matplotlib.pyplot as plt\n",
    "import seaborn as sns\n",
    "from sklearn.linear_model import LogisticRegression\n",
    "from sklearn.model_selection import train_test_split\n",
    "from sklearn.tree import DecisionTreeClassifier\n",
    "from sklearn.ensemble import RandomForestClassifier\n",
    "from sklearn.ensemble import AdaBoostClassifier\n",
    "from sklearn.ensemble import GradientBoostingClassifier\n",
    "from sklearn.ensemble import VotingClassifier\n",
    "from sklearn.model_selection import GridSearchCV"
   ]
  },
  {
   "cell_type": "code",
   "execution_count": 2,
   "id": "e4109966",
   "metadata": {},
   "outputs": [],
   "source": [
    "train = pd.read_csv('train.csv')\n",
    "test = pd.read_csv('test.csv')"
   ]
  },
  {
   "cell_type": "code",
   "execution_count": 3,
   "id": "cf8456f7",
   "metadata": {},
   "outputs": [
    {
     "data": {
      "text/html": [
       "<div>\n",
       "<style scoped>\n",
       "    .dataframe tbody tr th:only-of-type {\n",
       "        vertical-align: middle;\n",
       "    }\n",
       "\n",
       "    .dataframe tbody tr th {\n",
       "        vertical-align: top;\n",
       "    }\n",
       "\n",
       "    .dataframe thead th {\n",
       "        text-align: right;\n",
       "    }\n",
       "</style>\n",
       "<table border=\"1\" class=\"dataframe\">\n",
       "  <thead>\n",
       "    <tr style=\"text-align: right;\">\n",
       "      <th></th>\n",
       "      <th>state</th>\n",
       "      <th>account_length</th>\n",
       "      <th>area_code</th>\n",
       "      <th>international_plan</th>\n",
       "      <th>voice_mail_plan</th>\n",
       "      <th>number_vmail_messages</th>\n",
       "      <th>total_day_minutes</th>\n",
       "      <th>total_day_calls</th>\n",
       "      <th>total_day_charge</th>\n",
       "      <th>total_eve_minutes</th>\n",
       "      <th>total_eve_calls</th>\n",
       "      <th>total_eve_charge</th>\n",
       "      <th>total_night_minutes</th>\n",
       "      <th>total_night_calls</th>\n",
       "      <th>total_night_charge</th>\n",
       "      <th>total_intl_minutes</th>\n",
       "      <th>total_intl_calls</th>\n",
       "      <th>total_intl_charge</th>\n",
       "      <th>number_customer_service_calls</th>\n",
       "      <th>churn</th>\n",
       "    </tr>\n",
       "  </thead>\n",
       "  <tbody>\n",
       "    <tr>\n",
       "      <th>0</th>\n",
       "      <td>OH</td>\n",
       "      <td>107</td>\n",
       "      <td>area_code_415</td>\n",
       "      <td>no</td>\n",
       "      <td>yes</td>\n",
       "      <td>26</td>\n",
       "      <td>161.6</td>\n",
       "      <td>123</td>\n",
       "      <td>27.47</td>\n",
       "      <td>195.5</td>\n",
       "      <td>103</td>\n",
       "      <td>16.62</td>\n",
       "      <td>254.4</td>\n",
       "      <td>103</td>\n",
       "      <td>11.45</td>\n",
       "      <td>13.7</td>\n",
       "      <td>3</td>\n",
       "      <td>3.70</td>\n",
       "      <td>1</td>\n",
       "      <td>no</td>\n",
       "    </tr>\n",
       "    <tr>\n",
       "      <th>1</th>\n",
       "      <td>NJ</td>\n",
       "      <td>137</td>\n",
       "      <td>area_code_415</td>\n",
       "      <td>no</td>\n",
       "      <td>no</td>\n",
       "      <td>0</td>\n",
       "      <td>243.4</td>\n",
       "      <td>114</td>\n",
       "      <td>41.38</td>\n",
       "      <td>121.2</td>\n",
       "      <td>110</td>\n",
       "      <td>10.30</td>\n",
       "      <td>162.6</td>\n",
       "      <td>104</td>\n",
       "      <td>7.32</td>\n",
       "      <td>12.2</td>\n",
       "      <td>5</td>\n",
       "      <td>3.29</td>\n",
       "      <td>0</td>\n",
       "      <td>no</td>\n",
       "    </tr>\n",
       "    <tr>\n",
       "      <th>2</th>\n",
       "      <td>OH</td>\n",
       "      <td>84</td>\n",
       "      <td>area_code_408</td>\n",
       "      <td>yes</td>\n",
       "      <td>no</td>\n",
       "      <td>0</td>\n",
       "      <td>299.4</td>\n",
       "      <td>71</td>\n",
       "      <td>50.90</td>\n",
       "      <td>61.9</td>\n",
       "      <td>88</td>\n",
       "      <td>5.26</td>\n",
       "      <td>196.9</td>\n",
       "      <td>89</td>\n",
       "      <td>8.86</td>\n",
       "      <td>6.6</td>\n",
       "      <td>7</td>\n",
       "      <td>1.78</td>\n",
       "      <td>2</td>\n",
       "      <td>no</td>\n",
       "    </tr>\n",
       "    <tr>\n",
       "      <th>3</th>\n",
       "      <td>OK</td>\n",
       "      <td>75</td>\n",
       "      <td>area_code_415</td>\n",
       "      <td>yes</td>\n",
       "      <td>no</td>\n",
       "      <td>0</td>\n",
       "      <td>166.7</td>\n",
       "      <td>113</td>\n",
       "      <td>28.34</td>\n",
       "      <td>148.3</td>\n",
       "      <td>122</td>\n",
       "      <td>12.61</td>\n",
       "      <td>186.9</td>\n",
       "      <td>121</td>\n",
       "      <td>8.41</td>\n",
       "      <td>10.1</td>\n",
       "      <td>3</td>\n",
       "      <td>2.73</td>\n",
       "      <td>3</td>\n",
       "      <td>no</td>\n",
       "    </tr>\n",
       "    <tr>\n",
       "      <th>4</th>\n",
       "      <td>MA</td>\n",
       "      <td>121</td>\n",
       "      <td>area_code_510</td>\n",
       "      <td>no</td>\n",
       "      <td>yes</td>\n",
       "      <td>24</td>\n",
       "      <td>218.2</td>\n",
       "      <td>88</td>\n",
       "      <td>37.09</td>\n",
       "      <td>348.5</td>\n",
       "      <td>108</td>\n",
       "      <td>29.62</td>\n",
       "      <td>212.6</td>\n",
       "      <td>118</td>\n",
       "      <td>9.57</td>\n",
       "      <td>7.5</td>\n",
       "      <td>7</td>\n",
       "      <td>2.03</td>\n",
       "      <td>3</td>\n",
       "      <td>no</td>\n",
       "    </tr>\n",
       "  </tbody>\n",
       "</table>\n",
       "</div>"
      ],
      "text/plain": [
       "  state  account_length      area_code international_plan voice_mail_plan  \\\n",
       "0    OH             107  area_code_415                 no             yes   \n",
       "1    NJ             137  area_code_415                 no              no   \n",
       "2    OH              84  area_code_408                yes              no   \n",
       "3    OK              75  area_code_415                yes              no   \n",
       "4    MA             121  area_code_510                 no             yes   \n",
       "\n",
       "   number_vmail_messages  total_day_minutes  total_day_calls  \\\n",
       "0                     26              161.6              123   \n",
       "1                      0              243.4              114   \n",
       "2                      0              299.4               71   \n",
       "3                      0              166.7              113   \n",
       "4                     24              218.2               88   \n",
       "\n",
       "   total_day_charge  total_eve_minutes  total_eve_calls  total_eve_charge  \\\n",
       "0             27.47              195.5              103             16.62   \n",
       "1             41.38              121.2              110             10.30   \n",
       "2             50.90               61.9               88              5.26   \n",
       "3             28.34              148.3              122             12.61   \n",
       "4             37.09              348.5              108             29.62   \n",
       "\n",
       "   total_night_minutes  total_night_calls  total_night_charge  \\\n",
       "0                254.4                103               11.45   \n",
       "1                162.6                104                7.32   \n",
       "2                196.9                 89                8.86   \n",
       "3                186.9                121                8.41   \n",
       "4                212.6                118                9.57   \n",
       "\n",
       "   total_intl_minutes  total_intl_calls  total_intl_charge  \\\n",
       "0                13.7                 3               3.70   \n",
       "1                12.2                 5               3.29   \n",
       "2                 6.6                 7               1.78   \n",
       "3                10.1                 3               2.73   \n",
       "4                 7.5                 7               2.03   \n",
       "\n",
       "   number_customer_service_calls churn  \n",
       "0                              1    no  \n",
       "1                              0    no  \n",
       "2                              2    no  \n",
       "3                              3    no  \n",
       "4                              3    no  "
      ]
     },
     "execution_count": 3,
     "metadata": {},
     "output_type": "execute_result"
    }
   ],
   "source": [
    "train.head()"
   ]
  },
  {
   "cell_type": "code",
   "execution_count": 4,
   "id": "eb3a302a",
   "metadata": {},
   "outputs": [
    {
     "data": {
      "text/plain": [
       "state                            0\n",
       "account_length                   0\n",
       "area_code                        0\n",
       "international_plan               0\n",
       "voice_mail_plan                  0\n",
       "number_vmail_messages            0\n",
       "total_day_minutes                0\n",
       "total_day_calls                  0\n",
       "total_day_charge                 0\n",
       "total_eve_minutes                0\n",
       "total_eve_calls                  0\n",
       "total_eve_charge                 0\n",
       "total_night_minutes              0\n",
       "total_night_calls                0\n",
       "total_night_charge               0\n",
       "total_intl_minutes               0\n",
       "total_intl_calls                 0\n",
       "total_intl_charge                0\n",
       "number_customer_service_calls    0\n",
       "churn                            0\n",
       "dtype: int64"
      ]
     },
     "execution_count": 4,
     "metadata": {},
     "output_type": "execute_result"
    }
   ],
   "source": [
    "train.isna().sum()"
   ]
  },
  {
   "cell_type": "code",
   "execution_count": 5,
   "id": "f534ed8a",
   "metadata": {},
   "outputs": [
    {
     "data": {
      "text/plain": [
       "0"
      ]
     },
     "execution_count": 5,
     "metadata": {},
     "output_type": "execute_result"
    }
   ],
   "source": [
    "train.duplicated().sum()"
   ]
  },
  {
   "cell_type": "code",
   "execution_count": 6,
   "id": "69330e49",
   "metadata": {},
   "outputs": [
    {
     "name": "stdout",
     "output_type": "stream",
     "text": [
      "<class 'pandas.core.frame.DataFrame'>\n",
      "RangeIndex: 4250 entries, 0 to 4249\n",
      "Data columns (total 20 columns):\n",
      " #   Column                         Non-Null Count  Dtype  \n",
      "---  ------                         --------------  -----  \n",
      " 0   state                          4250 non-null   object \n",
      " 1   account_length                 4250 non-null   int64  \n",
      " 2   area_code                      4250 non-null   object \n",
      " 3   international_plan             4250 non-null   object \n",
      " 4   voice_mail_plan                4250 non-null   object \n",
      " 5   number_vmail_messages          4250 non-null   int64  \n",
      " 6   total_day_minutes              4250 non-null   float64\n",
      " 7   total_day_calls                4250 non-null   int64  \n",
      " 8   total_day_charge               4250 non-null   float64\n",
      " 9   total_eve_minutes              4250 non-null   float64\n",
      " 10  total_eve_calls                4250 non-null   int64  \n",
      " 11  total_eve_charge               4250 non-null   float64\n",
      " 12  total_night_minutes            4250 non-null   float64\n",
      " 13  total_night_calls              4250 non-null   int64  \n",
      " 14  total_night_charge             4250 non-null   float64\n",
      " 15  total_intl_minutes             4250 non-null   float64\n",
      " 16  total_intl_calls               4250 non-null   int64  \n",
      " 17  total_intl_charge              4250 non-null   float64\n",
      " 18  number_customer_service_calls  4250 non-null   int64  \n",
      " 19  churn                          4250 non-null   object \n",
      "dtypes: float64(8), int64(7), object(5)\n",
      "memory usage: 664.2+ KB\n"
     ]
    }
   ],
   "source": [
    "train.info()"
   ]
  },
  {
   "cell_type": "code",
   "execution_count": 7,
   "id": "6e6e34df",
   "metadata": {},
   "outputs": [],
   "source": [
    "train['churn'] = train['churn'].replace(['no','yes'],[0,1])"
   ]
  },
  {
   "cell_type": "code",
   "execution_count": 8,
   "id": "b45a516c",
   "metadata": {},
   "outputs": [
    {
     "data": {
      "text/plain": [
       "account_length                   0.019378\n",
       "number_vmail_messages           -0.100347\n",
       "total_day_minutes                0.215272\n",
       "total_day_calls                  0.011640\n",
       "total_day_charge                 0.215263\n",
       "total_eve_minutes                0.078855\n",
       "total_eve_calls                 -0.006817\n",
       "total_eve_charge                 0.078852\n",
       "total_night_minutes              0.046647\n",
       "total_night_calls               -0.012699\n",
       "total_night_charge               0.046641\n",
       "total_intl_minutes               0.055186\n",
       "total_intl_calls                -0.034334\n",
       "total_intl_charge                0.055177\n",
       "number_customer_service_calls    0.221220\n",
       "churn                            1.000000\n",
       "Name: churn, dtype: float64"
      ]
     },
     "execution_count": 8,
     "metadata": {},
     "output_type": "execute_result"
    }
   ],
   "source": [
    "train.corr()['churn']"
   ]
  },
  {
   "cell_type": "code",
   "execution_count": 9,
   "id": "2d5b8cd0",
   "metadata": {},
   "outputs": [],
   "source": [
    "train['total_minutes']= (train['total_day_minutes']**2 + train['total_eve_minutes']**2 + train['total_night_minutes']**2)**0.5\n",
    "train['total_calls'] = (train['total_day_calls']**2 + train['total_eve_calls']**2 + train['total_night_calls']**2)**0.5\n",
    "train['total_charge'] = (train['total_day_charge']**2 + train['total_eve_charge']**2 + train['total_night_charge']**2)**0.5"
   ]
  },
  {
   "cell_type": "code",
   "execution_count": 10,
   "id": "b7bae065",
   "metadata": {},
   "outputs": [
    {
     "data": {
      "text/plain": [
       "account_length                   0.019378\n",
       "number_vmail_messages           -0.100347\n",
       "total_day_minutes                0.215272\n",
       "total_day_calls                  0.011640\n",
       "total_day_charge                 0.215263\n",
       "total_eve_minutes                0.078855\n",
       "total_eve_calls                 -0.006817\n",
       "total_eve_charge                 0.078852\n",
       "total_night_minutes              0.046647\n",
       "total_night_calls               -0.012699\n",
       "total_night_charge               0.046641\n",
       "total_intl_minutes               0.055186\n",
       "total_intl_calls                -0.034334\n",
       "total_intl_charge                0.055177\n",
       "number_customer_service_calls    0.221220\n",
       "churn                            1.000000\n",
       "total_minutes                    0.202313\n",
       "total_calls                     -0.001806\n",
       "total_charge                     0.237869\n",
       "Name: churn, dtype: float64"
      ]
     },
     "execution_count": 10,
     "metadata": {},
     "output_type": "execute_result"
    }
   ],
   "source": [
    "train.corr()['churn']"
   ]
  },
  {
   "cell_type": "code",
   "execution_count": 11,
   "id": "9a452893",
   "metadata": {},
   "outputs": [],
   "source": [
    "import math\n",
    "train['total_minutes'] = (train['total_minutes']**2 + train['total_intl_minutes']**2)**0.5\n",
    "train['total_calls'] = (train['total_calls']**2 + train['total_intl_calls']**2)**0.5\n",
    "train['total_charge'] = (train['total_charge']**2 + train['total_intl_charge']**2)**0.5"
   ]
  },
  {
   "cell_type": "code",
   "execution_count": 12,
   "id": "a208b57c",
   "metadata": {},
   "outputs": [
    {
     "data": {
      "text/plain": [
       "account_length                   0.019378\n",
       "number_vmail_messages           -0.100347\n",
       "total_day_minutes                0.215272\n",
       "total_day_calls                  0.011640\n",
       "total_day_charge                 0.215263\n",
       "total_eve_minutes                0.078855\n",
       "total_eve_calls                 -0.006817\n",
       "total_eve_charge                 0.078852\n",
       "total_night_minutes              0.046647\n",
       "total_night_calls               -0.012699\n",
       "total_night_charge               0.046641\n",
       "total_intl_minutes               0.055186\n",
       "total_intl_calls                -0.034334\n",
       "total_intl_charge                0.055177\n",
       "number_customer_service_calls    0.221220\n",
       "churn                            1.000000\n",
       "total_minutes                    0.202432\n",
       "total_calls                     -0.001867\n",
       "total_charge                     0.238558\n",
       "Name: churn, dtype: float64"
      ]
     },
     "execution_count": 12,
     "metadata": {},
     "output_type": "execute_result"
    }
   ],
   "source": [
    "train.corr()['churn']"
   ]
  },
  {
   "cell_type": "code",
   "execution_count": 13,
   "id": "74913662",
   "metadata": {},
   "outputs": [],
   "source": [
    "train.drop(columns=[\"total_day_minutes\",\"total_day_calls\",\"total_day_charge\",\"total_eve_minutes\",\"total_eve_calls\",\"total_eve_charge\",\"total_night_minutes\",\"total_night_calls\",\"total_night_charge\",\"total_intl_minutes\",\"total_intl_calls\",\"total_intl_charge\"],inplace=True)"
   ]
  },
  {
   "cell_type": "code",
   "execution_count": 14,
   "id": "59369526",
   "metadata": {},
   "outputs": [
    {
     "data": {
      "image/png": "[encoded data removed]",
      "text/plain": [
       "<Figure size 1080x576 with 1 Axes>"
      ]
     },
     "metadata": {
      "needs_background": "light"
     },
     "output_type": "display_data"
    }
   ],
   "source": [
    "import warnings\n",
    "warnings.filterwarnings('ignore')\n",
    "plt.figure(figsize=(15,8))\n",
    "sns.countplot(train[train['churn']==1]['state'])\n",
    "plt.xticks(rotation=90)\n",
    "plt.show()"
   ]
  },
  {
   "cell_type": "code",
   "execution_count": 15,
   "id": "28628a58-2126-45fc-be4c-1f862f7436c9",
   "metadata": {},
   "outputs": [
    {
     "data": {
      "text/plain": [
       "<AxesSubplot:xlabel='number_vmail_messages', ylabel='Density'>"
      ]
     },
     "execution_count": 15,
     "metadata": {},
     "output_type": "execute_result"
    },
    {
     "data": {
      "image/png": "[encoded data removed]",
      "text/plain": [
       "<Figure size 432x288 with 1 Axes>"
      ]
     },
     "metadata": {
      "needs_background": "light"
     },
     "output_type": "display_data"
    }
   ],
   "source": [
    "sns.distplot(train[train['churn']==0]['number_vmail_messages'])\n",
    "sns.distplot(train[train['churn']==1]['number_vmail_messages'])"
   ]
  },
  {
   "cell_type": "code",
   "execution_count": 16,
   "id": "c8787354",
   "metadata": {},
   "outputs": [],
   "source": [
    "state_trans = pd.DataFrame(train[train['churn']==1]['state'].value_counts()/train['state'].value_counts()*100)"
   ]
  },
  {
   "cell_type": "code",
   "execution_count": 17,
   "id": "d5763238",
   "metadata": {},
   "outputs": [],
   "source": [
    "state_trans.reset_index(inplace=True)"
   ]
  },
  {
   "cell_type": "code",
   "execution_count": 18,
   "id": "feb5d226",
   "metadata": {},
   "outputs": [],
   "source": [
    "state_trans.columns=['state','value']"
   ]
  },
  {
   "cell_type": "code",
   "execution_count": 19,
   "id": "e5b71379",
   "metadata": {},
   "outputs": [],
   "source": [
    "train['state_value']=state_trans['value']"
   ]
  },
  {
   "cell_type": "code",
   "execution_count": 20,
   "id": "4085436a",
   "metadata": {},
   "outputs": [],
   "source": [
    "train.drop(columns=['total_calls','state_value'],inplace=True)"
   ]
  },
  {
   "cell_type": "code",
   "execution_count": 21,
   "id": "c8b084ee",
   "metadata": {},
   "outputs": [],
   "source": [
    "x=[]\n",
    "for i in range(0,train.shape[0]):\n",
    "    x.append(state_trans[state_trans['state']==train.iloc[i]['state']]['value'].iloc[0])"
   ]
  },
  {
   "cell_type": "code",
   "execution_count": 22,
   "id": "eb9fc368-ad2a-45f8-bafd-2c2009b83838",
   "metadata": {},
   "outputs": [],
   "source": [
    "train['state_value']=x"
   ]
  },
  {
   "cell_type": "code",
   "execution_count": 23,
   "id": "0b77bec9-b1c6-4ac8-82fb-c11ba6d1e40a",
   "metadata": {},
   "outputs": [],
   "source": [
    "train['international_plan']=train['international_plan'].replace(['no','yes'],[0,1])\n",
    "train['voice_mail_plan']=train['voice_mail_plan'].replace(['no','yes'],[0,1])"
   ]
  },
  {
   "cell_type": "code",
   "execution_count": 24,
   "id": "e996c151-bb88-4cf7-8117-dd560f4cb14f",
   "metadata": {},
   "outputs": [
    {
     "data": {
      "text/plain": [
       "396"
      ]
     },
     "execution_count": 24,
     "metadata": {},
     "output_type": "execute_result"
    }
   ],
   "source": [
    "sum(train[train['international_plan']==1]['churn'].value_counts())"
   ]
  },
  {
   "cell_type": "code",
   "execution_count": 25,
   "id": "6854811b-2bed-4c83-b522-8e94a191e480",
   "metadata": {},
   "outputs": [],
   "source": [
    "def prob_count(df,feature):\n",
    "    print('Prob. of customers not churn having {} :'.format(train[train[feature]==1]['churn'].value_counts()[0]/sum(train[train[feature]==1]['churn'].value_counts())))\n",
    "    print('Prob. of customers churn having {} :'.format(train[train[feature]==1]['churn'].value_counts()[1]/sum(train[train[feature]==1]['churn'].value_counts())))\n",
    "    print('Prob. of customers not churn not having {} :'.format(train[train[feature]==1]['churn'].value_counts()[0]/sum(train[train[feature]==0]['churn'].value_counts())))\n",
    "    print('Prob. of customers churn not having {} :'.format(train[train[feature]==1]['churn'].value_counts()[1]/sum(train[train[feature]==0]['churn'].value_counts())))"
   ]
  },
  {
   "cell_type": "code",
   "execution_count": 26,
   "id": "af83fa29-3efb-4390-84d8-0ac8eb1b73c1",
   "metadata": {},
   "outputs": [
    {
     "name": "stdout",
     "output_type": "stream",
     "text": [
      "Prob. of customers not churn having 0.5782828282828283 :\n",
      "Prob. of customers churn having 0.4217171717171717 :\n",
      "Prob. of customers not churn not having 0.05941878567721848 :\n",
      "Prob. of customers churn not having 0.04333160352880124 :\n"
     ]
    }
   ],
   "source": [
    "prob_count(train,'international_plan')"
   ]
  },
  {
   "cell_type": "code",
   "execution_count": 27,
   "id": "8ee141f4-34a9-4805-a4af-8e1bb049147b",
   "metadata": {},
   "outputs": [
    {
     "name": "stdout",
     "output_type": "stream",
     "text": [
      "Prob. of customers not churn having 0.9262589928057554 :\n",
      "Prob. of customers churn having 0.0737410071942446 :\n",
      "Prob. of customers not churn not having 0.3282345442957298 :\n",
      "Prob. of customers churn not having 0.026131293817718292 :\n"
     ]
    }
   ],
   "source": [
    "prob_count(train,'voice_mail_plan')"
   ]
  },
  {
   "cell_type": "code",
   "execution_count": 28,
   "id": "f26b0d03-5188-424d-80f1-9e5b790ccf83",
   "metadata": {},
   "outputs": [
    {
     "name": "stdout",
     "output_type": "stream",
     "text": [
      "Prob. of having voice_mail_plan is  0.2616470588235294\n",
      "Prob. of not having voice_mail_plan is  0.7383529411764705\n"
     ]
    }
   ],
   "source": [
    "print('Prob. of having voice_mail_plan is ',train['voice_mail_plan'].value_counts()[1]/sum(train['voice_mail_plan'].value_counts()))\n",
    "print('Prob. of not having voice_mail_plan is ',train['voice_mail_plan'].value_counts()[0]/sum(train['voice_mail_plan'].value_counts()))"
   ]
  },
  {
   "cell_type": "code",
   "execution_count": 29,
   "id": "ac601549-cf10-46be-9ce3-3ac11a8d3846",
   "metadata": {},
   "outputs": [
    {
     "name": "stdout",
     "output_type": "stream",
     "text": [
      "Prob. of having international_plan is  0.09317647058823529\n",
      "Prob. of not having internatinal_plan is  0.9068235294117647\n"
     ]
    }
   ],
   "source": [
    "print('Prob. of having international_plan is ',train['international_plan'].value_counts()[1]/sum(train['international_plan'].value_counts()))\n",
    "print('Prob. of not having internatinal_plan is ',train['international_plan'].value_counts()[0]/sum(train['international_plan'].value_counts()))"
   ]
  },
  {
   "cell_type": "code",
   "execution_count": 30,
   "id": "cbd2ca01-838d-46d5-91b5-948f04633542",
   "metadata": {},
   "outputs": [
    {
     "data": {
      "text/plain": [
       "0     4.386288\n",
       "31    0.107023\n",
       "24    0.091973\n",
       "28    0.085284\n",
       "27    0.085284\n",
       "29    0.081940\n",
       "26    0.080268\n",
       "33    0.080268\n",
       "30    0.075251\n",
       "32    0.073579\n",
       "25    0.073579\n",
       "23    0.066890\n",
       "22    0.060201\n",
       "39    0.056856\n",
       "21    0.056856\n",
       "34    0.055184\n",
       "38    0.053512\n",
       "37    0.051839\n",
       "35    0.051839\n",
       "20    0.045151\n",
       "36    0.045151\n",
       "19    0.040134\n",
       "40    0.035117\n",
       "17    0.026756\n",
       "41    0.025084\n",
       "18    0.023411\n",
       "16    0.023411\n",
       "43    0.021739\n",
       "42    0.021739\n",
       "15    0.018395\n",
       "12    0.016722\n",
       "45    0.015050\n",
       "14    0.011706\n",
       "46    0.011706\n",
       "44    0.008361\n",
       "47    0.006689\n",
       "10    0.006689\n",
       "49    0.005017\n",
       "13    0.005017\n",
       "50    0.003344\n",
       "48    0.003344\n",
       "6     0.003344\n",
       "11    0.003344\n",
       "8     0.003344\n",
       "4     0.001672\n",
       "52    0.001672\n",
       "Name: number_vmail_messages, dtype: float64"
      ]
     },
     "execution_count": 30,
     "metadata": {},
     "output_type": "execute_result"
    }
   ],
   "source": [
    "train[train['churn']==0]['number_vmail_messages'].value_counts()/sum(train[train['churn']==1]['number_vmail_messages'].value_counts())"
   ]
  },
  {
   "cell_type": "code",
   "execution_count": 31,
   "id": "e225a505-ca7e-4f4c-a7d6-15cafc566537",
   "metadata": {},
   "outputs": [],
   "source": [
    "x=[]\n",
    "for i in range(0,train.shape[0]):\n",
    "    if train.iloc[i]['number_vmail_messages']==0:\n",
    "        x.append(2)\n",
    "    elif train.iloc[i]['number_vmail_messages']%2==0:\n",
    "        x.append(1)\n",
    "    else:\n",
    "        x.append(0)"
   ]
  },
  {
   "cell_type": "code",
   "execution_count": 32,
   "id": "ed826222-4d2e-4383-9652-35c17ef9b510",
   "metadata": {},
   "outputs": [],
   "source": [
    "train['mail_wise_rank']=x"
   ]
  },
  {
   "cell_type": "code",
   "execution_count": 33,
   "id": "ef5f8408",
   "metadata": {},
   "outputs": [
    {
     "data": {
      "text/plain": [
       "1    0.277592\n",
       "2    0.170569\n",
       "0    0.162207\n",
       "4    0.153846\n",
       "3    0.105351\n",
       "5    0.081940\n",
       "6    0.031773\n",
       "7    0.011706\n",
       "9    0.003344\n",
       "8    0.001672\n",
       "Name: number_customer_service_calls, dtype: float64"
      ]
     },
     "execution_count": 33,
     "metadata": {},
     "output_type": "execute_result"
    }
   ],
   "source": [
    "train[train['churn']==1]['number_customer_service_calls'].value_counts()/sum(train[train['churn']==1]['number_customer_service_calls'].value_counts())"
   ]
  },
  {
   "cell_type": "code",
   "execution_count": 34,
   "id": "d5bce04c",
   "metadata": {},
   "outputs": [],
   "source": [
    "x=[]\n",
    "for i in range(0,train.shape[0]):\n",
    "    if train.iloc[i]['number_customer_service_calls'] in [0,1,2,3,4]:\n",
    "        x.append(1)\n",
    "    else:\n",
    "        x.append(0)"
   ]
  },
  {
   "cell_type": "code",
   "execution_count": 35,
   "id": "5b3f8f9c-12fd-455c-8da3-fe397a2d721e",
   "metadata": {},
   "outputs": [],
   "source": [
    "train['csc_wise_rank']=x"
   ]
  },
  {
   "cell_type": "code",
   "execution_count": 36,
   "id": "25c121c2",
   "metadata": {},
   "outputs": [],
   "source": [
    "train.drop(columns=['state','number_customer_service_calls','number_vmail_messages'],inplace=True)"
   ]
  },
  {
   "cell_type": "code",
   "execution_count": 37,
   "id": "e3237c6d",
   "metadata": {},
   "outputs": [],
   "source": [
    "train.drop(columns=['account_length','area_code'],inplace=True)"
   ]
  },
  {
   "cell_type": "code",
   "execution_count": 38,
   "id": "8f3860aa",
   "metadata": {},
   "outputs": [],
   "source": [
    "X = train.drop(columns=['churn'])\n",
    "y = train['churn']"
   ]
  },
  {
   "cell_type": "code",
   "execution_count": 39,
   "id": "13518fc6",
   "metadata": {},
   "outputs": [
    {
     "data": {
      "text/html": [
       "<div>\n",
       "<style scoped>\n",
       "    .dataframe tbody tr th:only-of-type {\n",
       "        vertical-align: middle;\n",
       "    }\n",
       "\n",
       "    .dataframe tbody tr th {\n",
       "        vertical-align: top;\n",
       "    }\n",
       "\n",
       "    .dataframe thead th {\n",
       "        text-align: right;\n",
       "    }\n",
       "</style>\n",
       "<table border=\"1\" class=\"dataframe\">\n",
       "  <thead>\n",
       "    <tr style=\"text-align: right;\">\n",
       "      <th></th>\n",
       "      <th>international_plan</th>\n",
       "      <th>voice_mail_plan</th>\n",
       "      <th>total_minutes</th>\n",
       "      <th>total_charge</th>\n",
       "      <th>state_value</th>\n",
       "      <th>mail_wise_rank</th>\n",
       "      <th>csc_wise_rank</th>\n",
       "    </tr>\n",
       "  </thead>\n",
       "  <tbody>\n",
       "    <tr>\n",
       "      <th>0</th>\n",
       "      <td>0</td>\n",
       "      <td>1</td>\n",
       "      <td>359.502239</td>\n",
       "      <td>34.287283</td>\n",
       "      <td>12.631579</td>\n",
       "      <td>1</td>\n",
       "      <td>1</td>\n",
       "    </tr>\n",
       "    <tr>\n",
       "      <th>1</th>\n",
       "      <td>0</td>\n",
       "      <td>0</td>\n",
       "      <td>317.049838</td>\n",
       "      <td>43.391254</td>\n",
       "      <td>27.083333</td>\n",
       "      <td>2</td>\n",
       "      <td>1</td>\n",
       "    </tr>\n",
       "    <tr>\n",
       "      <th>2</th>\n",
       "      <td>1</td>\n",
       "      <td>0</td>\n",
       "      <td>363.710242</td>\n",
       "      <td>51.962925</td>\n",
       "      <td>12.631579</td>\n",
       "      <td>2</td>\n",
       "      <td>1</td>\n",
       "    </tr>\n",
       "    <tr>\n",
       "      <th>3</th>\n",
       "      <td>1</td>\n",
       "      <td>0</td>\n",
       "      <td>291.230836</td>\n",
       "      <td>32.254437</td>\n",
       "      <td>20.512821</td>\n",
       "      <td>2</td>\n",
       "      <td>1</td>\n",
       "    </tr>\n",
       "    <tr>\n",
       "      <th>4</th>\n",
       "      <td>0</td>\n",
       "      <td>1</td>\n",
       "      <td>462.945461</td>\n",
       "      <td>48.463577</td>\n",
       "      <td>15.730337</td>\n",
       "      <td>1</td>\n",
       "      <td>1</td>\n",
       "    </tr>\n",
       "    <tr>\n",
       "      <th>...</th>\n",
       "      <td>...</td>\n",
       "      <td>...</td>\n",
       "      <td>...</td>\n",
       "      <td>...</td>\n",
       "      <td>...</td>\n",
       "      <td>...</td>\n",
       "      <td>...</td>\n",
       "    </tr>\n",
       "    <tr>\n",
       "      <th>4245</th>\n",
       "      <td>0</td>\n",
       "      <td>0</td>\n",
       "      <td>375.058809</td>\n",
       "      <td>39.423740</td>\n",
       "      <td>21.250000</td>\n",
       "      <td>2</td>\n",
       "      <td>1</td>\n",
       "    </tr>\n",
       "    <tr>\n",
       "      <th>4246</th>\n",
       "      <td>0</td>\n",
       "      <td>0</td>\n",
       "      <td>289.248232</td>\n",
       "      <td>33.446623</td>\n",
       "      <td>13.669065</td>\n",
       "      <td>2</td>\n",
       "      <td>1</td>\n",
       "    </tr>\n",
       "    <tr>\n",
       "      <th>4247</th>\n",
       "      <td>0</td>\n",
       "      <td>0</td>\n",
       "      <td>288.340979</td>\n",
       "      <td>33.891949</td>\n",
       "      <td>8.750000</td>\n",
       "      <td>2</td>\n",
       "      <td>1</td>\n",
       "    </tr>\n",
       "    <tr>\n",
       "      <th>4248</th>\n",
       "      <td>0</td>\n",
       "      <td>1</td>\n",
       "      <td>440.326867</td>\n",
       "      <td>46.384345</td>\n",
       "      <td>5.194805</td>\n",
       "      <td>1</td>\n",
       "      <td>1</td>\n",
       "    </tr>\n",
       "    <tr>\n",
       "      <th>4249</th>\n",
       "      <td>0</td>\n",
       "      <td>1</td>\n",
       "      <td>334.867586</td>\n",
       "      <td>32.468000</td>\n",
       "      <td>11.627907</td>\n",
       "      <td>1</td>\n",
       "      <td>1</td>\n",
       "    </tr>\n",
       "  </tbody>\n",
       "</table>\n",
       "<p>4250 rows × 7 columns</p>\n",
       "</div>"
      ],
      "text/plain": [
       "      international_plan  voice_mail_plan  total_minutes  total_charge  \\\n",
       "0                      0                1     359.502239     34.287283   \n",
       "1                      0                0     317.049838     43.391254   \n",
       "2                      1                0     363.710242     51.962925   \n",
       "3                      1                0     291.230836     32.254437   \n",
       "4                      0                1     462.945461     48.463577   \n",
       "...                  ...              ...            ...           ...   \n",
       "4245                   0                0     375.058809     39.423740   \n",
       "4246                   0                0     289.248232     33.446623   \n",
       "4247                   0                0     288.340979     33.891949   \n",
       "4248                   0                1     440.326867     46.384345   \n",
       "4249                   0                1     334.867586     32.468000   \n",
       "\n",
       "      state_value  mail_wise_rank  csc_wise_rank  \n",
       "0       12.631579               1              1  \n",
       "1       27.083333               2              1  \n",
       "2       12.631579               2              1  \n",
       "3       20.512821               2              1  \n",
       "4       15.730337               1              1  \n",
       "...           ...             ...            ...  \n",
       "4245    21.250000               2              1  \n",
       "4246    13.669065               2              1  \n",
       "4247     8.750000               2              1  \n",
       "4248     5.194805               1              1  \n",
       "4249    11.627907               1              1  \n",
       "\n",
       "[4250 rows x 7 columns]"
      ]
     },
     "execution_count": 39,
     "metadata": {},
     "output_type": "execute_result"
    }
   ],
   "source": [
    "X"
   ]
  },
  {
   "cell_type": "code",
   "execution_count": 40,
   "id": "e3f14a8c",
   "metadata": {},
   "outputs": [],
   "source": [
    "X_train,X_test,Y_train,Y_test = train_test_split(X,y,test_size=0.2)"
   ]
  },
  {
   "cell_type": "code",
   "execution_count": 41,
   "id": "3329255b",
   "metadata": {},
   "outputs": [
    {
     "data": {
      "text/plain": [
       "LogisticRegression()"
      ]
     },
     "execution_count": 41,
     "metadata": {},
     "output_type": "execute_result"
    }
   ],
   "source": [
    "lr = LogisticRegression()\n",
    "lr.fit(X_train,Y_train)"
   ]
  },
  {
   "cell_type": "code",
   "execution_count": 42,
   "id": "5f7833f2",
   "metadata": {},
   "outputs": [
    {
     "data": {
      "text/plain": [
       "0.8611764705882353"
      ]
     },
     "execution_count": 42,
     "metadata": {},
     "output_type": "execute_result"
    }
   ],
   "source": [
    "from sklearn.metrics import accuracy_score\n",
    "accuracy_score(Y_test,lr.predict(X_test))"
   ]
  },
  {
   "cell_type": "code",
   "execution_count": 43,
   "id": "9f307225",
   "metadata": {},
   "outputs": [],
   "source": [
    "clf1 = DecisionTreeClassifier(max_depth=32,max_features=7,max_leaf_nodes=40,min_samples_leaf=5,random_state=0)"
   ]
  },
  {
   "cell_type": "code",
   "execution_count": 44,
   "id": "f6f7b3d2",
   "metadata": {},
   "outputs": [
    {
     "data": {
      "text/plain": [
       "DecisionTreeClassifier(max_depth=32, max_features=7, max_leaf_nodes=40,\n",
       "                       min_samples_leaf=5, random_state=0)"
      ]
     },
     "execution_count": 44,
     "metadata": {},
     "output_type": "execute_result"
    }
   ],
   "source": [
    "clf1.fit(X_train,Y_train)"
   ]
  },
  {
   "cell_type": "code",
   "execution_count": 45,
   "id": "a8f460b7",
   "metadata": {},
   "outputs": [
    {
     "data": {
      "text/plain": [
       "0.9058823529411765"
      ]
     },
     "execution_count": 45,
     "metadata": {},
     "output_type": "execute_result"
    }
   ],
   "source": [
    "accuracy_score(Y_test,clf1.predict(X_test))"
   ]
  },
  {
   "cell_type": "code",
   "execution_count": 46,
   "id": "1e579db7",
   "metadata": {},
   "outputs": [],
   "source": [
    "clf2=RandomForestClassifier(n_estimators=250,random_state=0,max_depth=32,max_leaf_nodes=25,min_samples_leaf=5)"
   ]
  },
  {
   "cell_type": "code",
   "execution_count": 47,
   "id": "787a6403",
   "metadata": {},
   "outputs": [],
   "source": [
    "# params = {\n",
    "#     'n_estimators':[100,150,200,250,300],\n",
    "#     'max_depth':[1,3,7,10,15,20,25],\n",
    "#     'min_samples_leaf':[2,3,4,5,7,10,15,20,25],\n",
    "#     'max_leaf_nodes':[2,3,4,5,6,7,10,13,15,20],\n",
    "#     'max_features':[1,2,3,4,5,6,7]\n",
    "# }\n",
    "# Gscv = GridSearchCV(clf2,param_grid=params,cv=5,scoring=accuracy_score)"
   ]
  },
  {
   "cell_type": "code",
   "execution_count": 48,
   "id": "760ff495",
   "metadata": {},
   "outputs": [],
   "source": [
    "# Gscv.fit(X_train,Y_train)"
   ]
  },
  {
   "cell_type": "code",
   "execution_count": 49,
   "id": "59435653",
   "metadata": {},
   "outputs": [
    {
     "data": {
      "text/plain": [
       "0.908235294117647"
      ]
     },
     "execution_count": 49,
     "metadata": {},
     "output_type": "execute_result"
    }
   ],
   "source": [
    "clf2.fit(X_train,Y_train)\n",
    "accuracy_score(Y_test,clf2.predict(X_test))"
   ]
  },
  {
   "cell_type": "code",
   "execution_count": 50,
   "id": "6dadd1d4",
   "metadata": {},
   "outputs": [
    {
     "data": {
      "text/plain": [
       "AdaBoostClassifier()"
      ]
     },
     "execution_count": 50,
     "metadata": {},
     "output_type": "execute_result"
    }
   ],
   "source": [
    "clf3 = AdaBoostClassifier()\n",
    "clf3.fit(X_train,Y_train)"
   ]
  },
  {
   "cell_type": "code",
   "execution_count": 51,
   "id": "dc276ced",
   "metadata": {},
   "outputs": [
    {
     "data": {
      "text/plain": [
       "0.88"
      ]
     },
     "execution_count": 51,
     "metadata": {},
     "output_type": "execute_result"
    }
   ],
   "source": [
    "accuracy_score(Y_test,clf3.predict(X_test))"
   ]
  },
  {
   "cell_type": "code",
   "execution_count": 52,
   "id": "c5bf2ad5",
   "metadata": {},
   "outputs": [
    {
     "data": {
      "text/plain": [
       "GradientBoostingClassifier()"
      ]
     },
     "execution_count": 52,
     "metadata": {},
     "output_type": "execute_result"
    }
   ],
   "source": [
    "clf4 = GradientBoostingClassifier()\n",
    "clf4.fit(X_train,Y_train)"
   ]
  },
  {
   "cell_type": "code",
   "execution_count": 53,
   "id": "98a3cdd2",
   "metadata": {},
   "outputs": [
    {
     "data": {
      "text/plain": [
       "0.9070588235294118"
      ]
     },
     "execution_count": 53,
     "metadata": {},
     "output_type": "execute_result"
    }
   ],
   "source": [
    "accuracy_score(Y_test,clf4.predict(X_test))"
   ]
  },
  {
   "cell_type": "code",
   "execution_count": 54,
   "id": "b5901114",
   "metadata": {},
   "outputs": [
    {
     "data": {
      "text/plain": [
       "VotingClassifier(estimators=[('rf',\n",
       "                              RandomForestClassifier(max_depth=32,\n",
       "                                                     max_leaf_nodes=25,\n",
       "                                                     min_samples_leaf=5,\n",
       "                                                     n_estimators=250,\n",
       "                                                     random_state=0)),\n",
       "                             ('gb', GradientBoostingClassifier()),\n",
       "                             ('adb', AdaBoostClassifier())],\n",
       "                 weights=[3, 1, 1])"
      ]
     },
     "execution_count": 54,
     "metadata": {},
     "output_type": "execute_result"
    }
   ],
   "source": [
    "estimators = [('rf',clf2),('gb',clf4),('adb',clf3)]\n",
    "clf5 = VotingClassifier(estimators=estimators,weights=[3,1,1])\n",
    "clf5.fit(X_train,Y_train)"
   ]
  },
  {
   "cell_type": "code",
   "execution_count": 55,
   "id": "0d77b4d7",
   "metadata": {},
   "outputs": [
    {
     "data": {
      "text/plain": [
       "0.908235294117647"
      ]
     },
     "execution_count": 55,
     "metadata": {},
     "output_type": "execute_result"
    }
   ],
   "source": [
    "accuracy_score(Y_test,clf5.predict(X_test))"
   ]
  },
  {
   "cell_type": "code",
   "execution_count": 56,
   "id": "13912bb3",
   "metadata": {},
   "outputs": [],
   "source": [
    "import tensorflow as tf"
   ]
  },
  {
   "cell_type": "code",
   "execution_count": 57,
   "id": "e5e29584",
   "metadata": {},
   "outputs": [],
   "source": [
    "model = tf.keras.models.Sequential()"
   ]
  },
  {
   "cell_type": "code",
   "execution_count": 58,
   "id": "c07307fd-4e45-4863-a1d9-0f738715a048",
   "metadata": {},
   "outputs": [],
   "source": [
    "model.add(tf.keras.layers.Dense(units=6,activation='relu'))"
   ]
  },
  {
   "cell_type": "code",
   "execution_count": 59,
   "id": "47584928-503c-4436-b20c-eddcdf14e014",
   "metadata": {},
   "outputs": [],
   "source": [
    "model.add(tf.keras.layers.Dense(units=6,activation='relu'))"
   ]
  },
  {
   "cell_type": "code",
   "execution_count": 60,
   "id": "684fae46-c3b5-44f3-9c55-458059998b56",
   "metadata": {},
   "outputs": [],
   "source": [
    "model.add(tf.keras.layers.Dense(units=1,activation='sigmoid'))"
   ]
  },
  {
   "cell_type": "code",
   "execution_count": 61,
   "id": "af9ea01a-d9a3-4cc9-a51a-cb30eaad8a8a",
   "metadata": {},
   "outputs": [],
   "source": [
    "model.compile(optimizer=\"adam\",loss=\"binary_crossentropy\",metrics=['accuracy'])"
   ]
  },
  {
   "cell_type": "code",
   "execution_count": 62,
   "id": "b112ffa1-25da-47ab-a907-6f92418203a5",
   "metadata": {},
   "outputs": [
    {
     "name": "stdout",
     "output_type": "stream",
     "text": [
      "Epoch 1/100\n",
      "107/107 [==============================] - 8s 10ms/step - loss: 6.9379 - accuracy: 0.8632\n",
      "Epoch 2/100\n",
      "107/107 [==============================] - 1s 8ms/step - loss: 3.2924 - accuracy: 0.8632\n",
      "Epoch 3/100\n",
      "107/107 [==============================] - 1s 9ms/step - loss: 1.0182 - accuracy: 0.8632\n",
      "Epoch 4/100\n",
      "107/107 [==============================] - 1s 7ms/step - loss: 0.4315 - accuracy: 0.8632\n",
      "Epoch 5/100\n",
      "107/107 [==============================] - 1s 6ms/step - loss: 0.4342 - accuracy: 0.8632\n",
      "Epoch 6/100\n",
      "107/107 [==============================] - 1s 6ms/step - loss: 0.4302 - accuracy: 0.8632\n",
      "Epoch 7/100\n",
      "107/107 [==============================] - 1s 6ms/step - loss: 0.4296 - accuracy: 0.8632\n",
      "Epoch 8/100\n",
      "107/107 [==============================] - 1s 5ms/step - loss: 0.4305 - accuracy: 0.8632\n",
      "Epoch 9/100\n",
      "107/107 [==============================] - 1s 5ms/step - loss: 0.4292 - accuracy: 0.8632\n",
      "Epoch 10/100\n",
      "107/107 [==============================] - 1s 6ms/step - loss: 0.4292 - accuracy: 0.8632\n",
      "Epoch 11/100\n",
      "107/107 [==============================] - 1s 6ms/step - loss: 0.4323 - accuracy: 0.8632\n",
      "Epoch 12/100\n",
      "107/107 [==============================] - 1s 6ms/step - loss: 0.4277 - accuracy: 0.8632\n",
      "Epoch 13/100\n",
      "107/107 [==============================] - 1s 6ms/step - loss: 0.4265 - accuracy: 0.8632\n",
      "Epoch 14/100\n",
      "107/107 [==============================] - 1s 6ms/step - loss: 0.4267 - accuracy: 0.8632\n",
      "Epoch 15/100\n",
      "107/107 [==============================] - 1s 5ms/step - loss: 0.4275 - accuracy: 0.8632\n",
      "Epoch 16/100\n",
      "107/107 [==============================] - 1s 5ms/step - loss: 0.4250 - accuracy: 0.8632\n",
      "Epoch 17/100\n",
      "107/107 [==============================] - 1s 6ms/step - loss: 0.4305 - accuracy: 0.8632\n",
      "Epoch 18/100\n",
      "107/107 [==============================] - 1s 6ms/step - loss: 0.4238 - accuracy: 0.8632\n",
      "Epoch 19/100\n",
      "107/107 [==============================] - 1s 6ms/step - loss: 0.4242 - accuracy: 0.8632\n",
      "Epoch 20/100\n",
      "107/107 [==============================] - 1s 6ms/step - loss: 0.4230 - accuracy: 0.8632\n",
      "Epoch 21/100\n",
      "107/107 [==============================] - 1s 5ms/step - loss: 0.4221 - accuracy: 0.8632\n",
      "Epoch 22/100\n",
      "107/107 [==============================] - 1s 5ms/step - loss: 0.4234 - accuracy: 0.8632\n",
      "Epoch 23/100\n",
      "107/107 [==============================] - 1s 6ms/step - loss: 0.4221 - accuracy: 0.8632\n",
      "Epoch 24/100\n",
      "107/107 [==============================] - 1s 5ms/step - loss: 0.4218 - accuracy: 0.8632\n",
      "Epoch 25/100\n",
      "107/107 [==============================] - 1s 5ms/step - loss: 0.4220 - accuracy: 0.8632\n",
      "Epoch 26/100\n",
      "107/107 [==============================] - 1s 6ms/step - loss: 0.4201 - accuracy: 0.8632\n",
      "Epoch 27/100\n",
      "107/107 [==============================] - 1s 5ms/step - loss: 0.4187 - accuracy: 0.8632\n",
      "Epoch 28/100\n",
      "107/107 [==============================] - 1s 5ms/step - loss: 0.4181 - accuracy: 0.8632\n",
      "Epoch 29/100\n",
      "107/107 [==============================] - 1s 5ms/step - loss: 0.4200 - accuracy: 0.8632\n",
      "Epoch 30/100\n",
      "107/107 [==============================] - 1s 5ms/step - loss: 0.4186 - accuracy: 0.8632\n",
      "Epoch 31/100\n",
      "107/107 [==============================] - 1s 5ms/step - loss: 0.4167 - accuracy: 0.8632\n",
      "Epoch 32/100\n",
      "107/107 [==============================] - 1s 6ms/step - loss: 0.4208 - accuracy: 0.8632\n",
      "Epoch 33/100\n",
      "107/107 [==============================] - 1s 6ms/step - loss: 0.4162 - accuracy: 0.8632\n",
      "Epoch 34/100\n",
      "107/107 [==============================] - 1s 5ms/step - loss: 0.4168 - accuracy: 0.8632\n",
      "Epoch 35/100\n",
      "107/107 [==============================] - 1s 5ms/step - loss: 0.4153 - accuracy: 0.8632\n",
      "Epoch 36/100\n",
      "107/107 [==============================] - 1s 5ms/step - loss: 0.4143 - accuracy: 0.8632\n",
      "Epoch 37/100\n",
      "107/107 [==============================] - 1s 6ms/step - loss: 0.4148 - accuracy: 0.8632\n",
      "Epoch 38/100\n",
      "107/107 [==============================] - 1s 6ms/step - loss: 0.4135 - accuracy: 0.8632\n",
      "Epoch 39/100\n",
      "107/107 [==============================] - 1s 8ms/step - loss: 0.4149 - accuracy: 0.8632\n",
      "Epoch 40/100\n",
      "107/107 [==============================] - 1s 6ms/step - loss: 0.4129 - accuracy: 0.8632\n",
      "Epoch 41/100\n",
      "107/107 [==============================] - 1s 6ms/step - loss: 0.4139 - accuracy: 0.8632\n",
      "Epoch 42/100\n",
      "107/107 [==============================] - 1s 7ms/step - loss: 0.4125 - accuracy: 0.8632\n",
      "Epoch 43/100\n",
      "107/107 [==============================] - 0s 4ms/step - loss: 0.4148 - accuracy: 0.8632\n",
      "Epoch 44/100\n",
      "107/107 [==============================] - 0s 4ms/step - loss: 0.4125 - accuracy: 0.8632\n",
      "Epoch 45/100\n",
      "107/107 [==============================] - 0s 4ms/step - loss: 0.4107 - accuracy: 0.8632\n",
      "Epoch 46/100\n",
      "107/107 [==============================] - 0s 4ms/step - loss: 0.4100 - accuracy: 0.8632\n",
      "Epoch 47/100\n",
      "107/107 [==============================] - 0s 4ms/step - loss: 0.4089 - accuracy: 0.8632\n",
      "Epoch 48/100\n",
      "107/107 [==============================] - 1s 6ms/step - loss: 0.4116 - accuracy: 0.8632\n",
      "Epoch 49/100\n",
      "107/107 [==============================] - 0s 4ms/step - loss: 0.4085 - accuracy: 0.8632\n",
      "Epoch 50/100\n",
      "107/107 [==============================] - 0s 4ms/step - loss: 0.4110 - accuracy: 0.8632\n",
      "Epoch 51/100\n",
      "107/107 [==============================] - 0s 3ms/step - loss: 0.4086 - accuracy: 0.8632\n",
      "Epoch 52/100\n",
      "107/107 [==============================] - 0s 4ms/step - loss: 0.4075 - accuracy: 0.8632\n",
      "Epoch 53/100\n",
      "107/107 [==============================] - 0s 4ms/step - loss: 0.4070 - accuracy: 0.8632\n",
      "Epoch 54/100\n",
      "107/107 [==============================] - 1s 6ms/step - loss: 0.4072 - accuracy: 0.8632\n",
      "Epoch 55/100\n",
      "107/107 [==============================] - 1s 7ms/step - loss: 0.4070 - accuracy: 0.8632\n",
      "Epoch 56/100\n",
      "107/107 [==============================] - 1s 6ms/step - loss: 0.4058 - accuracy: 0.8632\n",
      "Epoch 57/100\n",
      "107/107 [==============================] - 1s 7ms/step - loss: 0.4063 - accuracy: 0.8632\n",
      "Epoch 58/100\n",
      "107/107 [==============================] - 1s 6ms/step - loss: 0.4044 - accuracy: 0.8632\n",
      "Epoch 59/100\n",
      "107/107 [==============================] - 1s 6ms/step - loss: 0.4049 - accuracy: 0.8632\n",
      "Epoch 60/100\n",
      "107/107 [==============================] - 1s 5ms/step - loss: 0.4035 - accuracy: 0.8632\n",
      "Epoch 61/100\n",
      "107/107 [==============================] - 1s 6ms/step - loss: 0.4037 - accuracy: 0.8632\n",
      "Epoch 62/100\n",
      "107/107 [==============================] - 1s 6ms/step - loss: 0.4032 - accuracy: 0.8632\n",
      "Epoch 63/100\n",
      "107/107 [==============================] - 1s 7ms/step - loss: 0.4034 - accuracy: 0.8632\n",
      "Epoch 64/100\n",
      "107/107 [==============================] - 1s 5ms/step - loss: 0.4027 - accuracy: 0.8632\n",
      "Epoch 65/100\n",
      "107/107 [==============================] - 1s 5ms/step - loss: 0.4022 - accuracy: 0.8632\n",
      "Epoch 66/100\n",
      "107/107 [==============================] - 0s 4ms/step - loss: 0.4026 - accuracy: 0.8632\n",
      "Epoch 67/100\n",
      "107/107 [==============================] - 0s 4ms/step - loss: 0.4009 - accuracy: 0.8632\n",
      "Epoch 68/100\n",
      "107/107 [==============================] - 0s 3ms/step - loss: 0.4010 - accuracy: 0.8632\n",
      "Epoch 69/100\n",
      "107/107 [==============================] - 0s 4ms/step - loss: 0.4011 - accuracy: 0.8632\n",
      "Epoch 70/100\n",
      "107/107 [==============================] - 0s 4ms/step - loss: 0.4003 - accuracy: 0.8632\n",
      "Epoch 71/100\n",
      "107/107 [==============================] - 0s 3ms/step - loss: 0.4005 - accuracy: 0.8632\n",
      "Epoch 72/100\n",
      "107/107 [==============================] - 0s 3ms/step - loss: 0.4003 - accuracy: 0.8632\n",
      "Epoch 73/100\n",
      "107/107 [==============================] - 0s 4ms/step - loss: 0.3993 - accuracy: 0.8632\n",
      "Epoch 74/100\n",
      "107/107 [==============================] - 0s 3ms/step - loss: 0.3991 - accuracy: 0.8632\n",
      "Epoch 75/100\n",
      "107/107 [==============================] - 0s 3ms/step - loss: 0.3981 - accuracy: 0.8632\n",
      "Epoch 76/100\n",
      "107/107 [==============================] - 0s 4ms/step - loss: 0.3991 - accuracy: 0.8632\n",
      "Epoch 77/100\n",
      "107/107 [==============================] - 0s 3ms/step - loss: 0.3989 - accuracy: 0.8632\n",
      "Epoch 78/100\n",
      "107/107 [==============================] - 0s 3ms/step - loss: 0.3988 - accuracy: 0.8632\n",
      "Epoch 79/100\n",
      "107/107 [==============================] - 0s 3ms/step - loss: 0.3977 - accuracy: 0.8632\n",
      "Epoch 80/100\n",
      "107/107 [==============================] - 0s 3ms/step - loss: 0.3974 - accuracy: 0.8632\n",
      "Epoch 81/100\n",
      "107/107 [==============================] - 0s 3ms/step - loss: 0.3977 - accuracy: 0.8632\n",
      "Epoch 82/100\n",
      "107/107 [==============================] - 0s 3ms/step - loss: 0.3976 - accuracy: 0.8632\n",
      "Epoch 83/100\n",
      "107/107 [==============================] - 0s 3ms/step - loss: 0.3967 - accuracy: 0.8632\n",
      "Epoch 84/100\n",
      "107/107 [==============================] - 0s 4ms/step - loss: 0.3963 - accuracy: 0.8632\n",
      "Epoch 85/100\n",
      "107/107 [==============================] - 1s 6ms/step - loss: 0.3958 - accuracy: 0.8632\n",
      "Epoch 86/100\n",
      "107/107 [==============================] - 1s 6ms/step - loss: 0.3952 - accuracy: 0.8632\n",
      "Epoch 87/100\n",
      "107/107 [==============================] - 1s 6ms/step - loss: 0.3943 - accuracy: 0.8632\n",
      "Epoch 88/100\n",
      "107/107 [==============================] - 1s 7ms/step - loss: 0.3932 - accuracy: 0.8632\n",
      "Epoch 89/100\n",
      "107/107 [==============================] - 1s 6ms/step - loss: 0.3925 - accuracy: 0.8632\n",
      "Epoch 90/100\n",
      "107/107 [==============================] - 1s 5ms/step - loss: 0.3929 - accuracy: 0.8632\n",
      "Epoch 91/100\n",
      "107/107 [==============================] - 1s 6ms/step - loss: 0.3911 - accuracy: 0.8632\n",
      "Epoch 92/100\n",
      "107/107 [==============================] - 1s 6ms/step - loss: 0.3900 - accuracy: 0.8632\n",
      "Epoch 93/100\n",
      "107/107 [==============================] - 1s 5ms/step - loss: 0.3892 - accuracy: 0.8632\n",
      "Epoch 94/100\n",
      "107/107 [==============================] - 1s 5ms/step - loss: 0.3887 - accuracy: 0.8632\n",
      "Epoch 95/100\n",
      "107/107 [==============================] - 1s 5ms/step - loss: 0.3850 - accuracy: 0.8632\n",
      "Epoch 96/100\n",
      "107/107 [==============================] - 1s 5ms/step - loss: 0.3835 - accuracy: 0.8632\n",
      "Epoch 97/100\n",
      "107/107 [==============================] - 1s 5ms/step - loss: 0.3835 - accuracy: 0.8632\n",
      "Epoch 98/100\n",
      "107/107 [==============================] - 1s 5ms/step - loss: 0.3802 - accuracy: 0.8632\n",
      "Epoch 99/100\n",
      "107/107 [==============================] - 1s 5ms/step - loss: 0.3757 - accuracy: 0.8632\n",
      "Epoch 100/100\n",
      "107/107 [==============================] - 1s 5ms/step - loss: 0.3734 - accuracy: 0.8632\n"
     ]
    },
    {
     "data": {
      "text/plain": [
       "<keras.callbacks.History at 0x1dbec8e35b0>"
      ]
     },
     "execution_count": 62,
     "metadata": {},
     "output_type": "execute_result"
    }
   ],
   "source": [
    "model.fit(X_train,Y_train,batch_size=32,epochs = 100)"
   ]
  },
  {
   "cell_type": "code",
   "execution_count": 63,
   "id": "8c5771bf-2d87-4e6c-87a3-17bd08e51636",
   "metadata": {},
   "outputs": [
    {
     "name": "stdout",
     "output_type": "stream",
     "text": [
      "27/27 [==============================] - 1s 6ms/step\n"
     ]
    }
   ],
   "source": [
    "y_pred=model.predict(X_test)"
   ]
  },
  {
   "cell_type": "code",
   "execution_count": 64,
   "id": "6abfa169-7541-4ebc-b907-8612eb136d06",
   "metadata": {},
   "outputs": [],
   "source": [
    "y_pred=np.where(y_pred>0.1,1,0)"
   ]
  },
  {
   "cell_type": "code",
   "execution_count": 65,
   "id": "db1a1b3d-7858-41a8-a4bc-d40148d14e36",
   "metadata": {},
   "outputs": [],
   "source": [
    "y_pred=y_pred.ravel()"
   ]
  },
  {
   "cell_type": "code",
   "execution_count": 66,
   "id": "295de8ab-21bb-49cd-9901-dce33facdbcc",
   "metadata": {},
   "outputs": [
    {
     "data": {
      "text/plain": [
       "0.6529411764705882"
      ]
     },
     "execution_count": 66,
     "metadata": {},
     "output_type": "execute_result"
    }
   ],
   "source": [
    "sum((y_pred-Y_test)**2)/len(y_pred)"
   ]
  },
  {
   "cell_type": "code",
   "execution_count": 67,
   "id": "32b4609b-d818-4951-b8ed-b514ad393fa6",
   "metadata": {},
   "outputs": [],
   "source": [
    "from sklearn.linear_model import LinearRegression\n",
    "linear_reg=LinearRegression()"
   ]
  },
  {
   "cell_type": "code",
   "execution_count": 68,
   "id": "607df483-03d3-4af3-96c3-5335d8a98eef",
   "metadata": {},
   "outputs": [
    {
     "data": {
      "text/plain": [
       "LinearRegression()"
      ]
     },
     "execution_count": 68,
     "metadata": {},
     "output_type": "execute_result"
    }
   ],
   "source": [
    "linear_reg.fit(X_train,Y_train)"
   ]
  },
  {
   "cell_type": "code",
   "execution_count": 69,
   "id": "2856b5e6-27cc-4788-8dcc-f7201a643daa",
   "metadata": {},
   "outputs": [],
   "source": [
    "y_pred1=linear_reg.predict(X_test)"
   ]
  },
  {
   "cell_type": "code",
   "execution_count": 70,
   "id": "cf3ce8ef-7fd4-457a-bbb6-bb474f44baee",
   "metadata": {},
   "outputs": [],
   "source": [
    "y_pred1=np.where(y_pred1>0.5045,1,0)"
   ]
  },
  {
   "cell_type": "code",
   "execution_count": 71,
   "id": "ebef58cc-9af7-47d0-92bc-7728231a6291",
   "metadata": {},
   "outputs": [],
   "source": [
    "y_pred1=y_pred1.ravel()"
   ]
  },
  {
   "cell_type": "code",
   "execution_count": 72,
   "id": "082fff17-21f6-4a25-b442-bd25817c2726",
   "metadata": {},
   "outputs": [
    {
     "data": {
      "text/plain": [
       "0.8611764705882353"
      ]
     },
     "execution_count": 72,
     "metadata": {},
     "output_type": "execute_result"
    }
   ],
   "source": [
    "accuracy_score(Y_test,y_pred1)"
   ]
  },
  {
   "cell_type": "code",
   "execution_count": 73,
   "id": "e9ebd6a4-018b-43c8-89b5-78839d504ebe",
   "metadata": {},
   "outputs": [],
   "source": [
    "from sklearn.naive_bayes import MultinomialNB,GaussianNB\n",
    "mnb=MultinomialNB()\n",
    "gb=GaussianNB()"
   ]
  },
  {
   "cell_type": "code",
   "execution_count": 74,
   "id": "535f42d3-9be8-44b2-8505-912edda4e06e",
   "metadata": {},
   "outputs": [
    {
     "data": {
      "text/plain": [
       "MultinomialNB()"
      ]
     },
     "execution_count": 74,
     "metadata": {},
     "output_type": "execute_result"
    }
   ],
   "source": [
    "mnb.fit(X_train,Y_train)"
   ]
  },
  {
   "cell_type": "code",
   "execution_count": 75,
   "id": "ca464f0c-a121-495a-9f8e-dd27bc93e512",
   "metadata": {},
   "outputs": [
    {
     "data": {
      "text/plain": [
       "0.8458823529411764"
      ]
     },
     "execution_count": 75,
     "metadata": {},
     "output_type": "execute_result"
    }
   ],
   "source": [
    "accuracy_score(Y_test,mnb.predict(X_test))"
   ]
  },
  {
   "cell_type": "code",
   "execution_count": 76,
   "id": "f31050fd-747e-43e4-a4ae-d4a1882ac992",
   "metadata": {},
   "outputs": [
    {
     "data": {
      "text/plain": [
       "GaussianNB()"
      ]
     },
     "execution_count": 76,
     "metadata": {},
     "output_type": "execute_result"
    }
   ],
   "source": [
    "gb.fit(X_train,Y_train)"
   ]
  },
  {
   "cell_type": "code",
   "execution_count": 77,
   "id": "45ef07a5-8f45-4d48-9a4d-200e1e43669f",
   "metadata": {},
   "outputs": [
    {
     "data": {
      "text/plain": [
       "0.8682352941176471"
      ]
     },
     "execution_count": 77,
     "metadata": {},
     "output_type": "execute_result"
    }
   ],
   "source": [
    "accuracy_score(Y_test,gb.predict(X_test))"
   ]
  },
  {
   "cell_type": "code",
   "execution_count": 78,
   "id": "85057b9f-b10a-4eff-8662-dc78aa988bf5",
   "metadata": {},
   "outputs": [],
   "source": [
    "state_trans.to_csv('state_value.csv')"
   ]
  },
  {
   "cell_type": "code",
   "execution_count": 79,
   "id": "60087e5a-5622-4216-97a0-59a0a149c29b",
   "metadata": {},
   "outputs": [],
   "source": [
    "import pickle as pk"
   ]
  },
  {
   "cell_type": "code",
   "execution_count": 84,
   "id": "921a7655-8a95-4f64-87ef-fe8bf1699e0a",
   "metadata": {},
   "outputs": [],
   "source": [
    "with open('clf2','wb') as f:\n",
    "    pk.dump(clf2,f)"
   ]
  },
  {
   "cell_type": "code",
   "execution_count": 85,
   "id": "9b151a59-501d-4461-ac3b-d01f544438d7",
   "metadata": {},
   "outputs": [
    {
     "data": {
      "text/plain": [
       "array([0], dtype=int64)"
      ]
     },
     "execution_count": 85,
     "metadata": {},
     "output_type": "execute_result"
    }
   ],
   "source": [
    "clf2.predict([[0,1,359.5,34.2,12.63,1,1]])"
   ]
  },
  {
   "cell_type": "code",
   "execution_count": 86,
   "id": "e8810231-58ca-4076-9476-5ac0518431db",
   "metadata": {},
   "outputs": [
    {
     "data": {
      "text/html": [
       "<div>\n",
       "<style scoped>\n",
       "    .dataframe tbody tr th:only-of-type {\n",
       "        vertical-align: middle;\n",
       "    }\n",
       "\n",
       "    .dataframe tbody tr th {\n",
       "        vertical-align: top;\n",
       "    }\n",
       "\n",
       "    .dataframe thead th {\n",
       "        text-align: right;\n",
       "    }\n",
       "</style>\n",
       "<table border=\"1\" class=\"dataframe\">\n",
       "  <thead>\n",
       "    <tr style=\"text-align: right;\">\n",
       "      <th></th>\n",
       "      <th>international_plan</th>\n",
       "      <th>voice_mail_plan</th>\n",
       "      <th>total_minutes</th>\n",
       "      <th>total_charge</th>\n",
       "      <th>state_value</th>\n",
       "      <th>mail_wise_rank</th>\n",
       "      <th>csc_wise_rank</th>\n",
       "    </tr>\n",
       "  </thead>\n",
       "  <tbody>\n",
       "    <tr>\n",
       "      <th>2268</th>\n",
       "      <td>0</td>\n",
       "      <td>0</td>\n",
       "      <td>378.808844</td>\n",
       "      <td>39.153096</td>\n",
       "      <td>15.151515</td>\n",
       "      <td>2</td>\n",
       "      <td>1</td>\n",
       "    </tr>\n",
       "    <tr>\n",
       "      <th>585</th>\n",
       "      <td>0</td>\n",
       "      <td>0</td>\n",
       "      <td>350.657126</td>\n",
       "      <td>37.214683</td>\n",
       "      <td>17.241379</td>\n",
       "      <td>2</td>\n",
       "      <td>1</td>\n",
       "    </tr>\n",
       "    <tr>\n",
       "      <th>3857</th>\n",
       "      <td>0</td>\n",
       "      <td>0</td>\n",
       "      <td>353.276535</td>\n",
       "      <td>50.251120</td>\n",
       "      <td>21.250000</td>\n",
       "      <td>2</td>\n",
       "      <td>1</td>\n",
       "    </tr>\n",
       "    <tr>\n",
       "      <th>1767</th>\n",
       "      <td>0</td>\n",
       "      <td>1</td>\n",
       "      <td>368.713547</td>\n",
       "      <td>42.659699</td>\n",
       "      <td>11.940299</td>\n",
       "      <td>0</td>\n",
       "      <td>1</td>\n",
       "    </tr>\n",
       "    <tr>\n",
       "      <th>3720</th>\n",
       "      <td>0</td>\n",
       "      <td>1</td>\n",
       "      <td>396.883522</td>\n",
       "      <td>38.179851</td>\n",
       "      <td>11.940299</td>\n",
       "      <td>0</td>\n",
       "      <td>1</td>\n",
       "    </tr>\n",
       "    <tr>\n",
       "      <th>...</th>\n",
       "      <td>...</td>\n",
       "      <td>...</td>\n",
       "      <td>...</td>\n",
       "      <td>...</td>\n",
       "      <td>...</td>\n",
       "      <td>...</td>\n",
       "      <td>...</td>\n",
       "    </tr>\n",
       "    <tr>\n",
       "      <th>2198</th>\n",
       "      <td>0</td>\n",
       "      <td>1</td>\n",
       "      <td>366.165345</td>\n",
       "      <td>36.818145</td>\n",
       "      <td>6.849315</td>\n",
       "      <td>1</td>\n",
       "      <td>1</td>\n",
       "    </tr>\n",
       "    <tr>\n",
       "      <th>3786</th>\n",
       "      <td>1</td>\n",
       "      <td>0</td>\n",
       "      <td>325.894922</td>\n",
       "      <td>36.304951</td>\n",
       "      <td>17.241379</td>\n",
       "      <td>2</td>\n",
       "      <td>1</td>\n",
       "    </tr>\n",
       "    <tr>\n",
       "      <th>2660</th>\n",
       "      <td>0</td>\n",
       "      <td>0</td>\n",
       "      <td>296.813527</td>\n",
       "      <td>28.415008</td>\n",
       "      <td>6.557377</td>\n",
       "      <td>2</td>\n",
       "      <td>1</td>\n",
       "    </tr>\n",
       "    <tr>\n",
       "      <th>153</th>\n",
       "      <td>0</td>\n",
       "      <td>0</td>\n",
       "      <td>262.347994</td>\n",
       "      <td>29.071441</td>\n",
       "      <td>16.666667</td>\n",
       "      <td>2</td>\n",
       "      <td>1</td>\n",
       "    </tr>\n",
       "    <tr>\n",
       "      <th>168</th>\n",
       "      <td>0</td>\n",
       "      <td>0</td>\n",
       "      <td>314.327154</td>\n",
       "      <td>30.004760</td>\n",
       "      <td>17.241379</td>\n",
       "      <td>2</td>\n",
       "      <td>1</td>\n",
       "    </tr>\n",
       "  </tbody>\n",
       "</table>\n",
       "<p>850 rows × 7 columns</p>\n",
       "</div>"
      ],
      "text/plain": [
       "      international_plan  voice_mail_plan  total_minutes  total_charge  \\\n",
       "2268                   0                0     378.808844     39.153096   \n",
       "585                    0                0     350.657126     37.214683   \n",
       "3857                   0                0     353.276535     50.251120   \n",
       "1767                   0                1     368.713547     42.659699   \n",
       "3720                   0                1     396.883522     38.179851   \n",
       "...                  ...              ...            ...           ...   \n",
       "2198                   0                1     366.165345     36.818145   \n",
       "3786                   1                0     325.894922     36.304951   \n",
       "2660                   0                0     296.813527     28.415008   \n",
       "153                    0                0     262.347994     29.071441   \n",
       "168                    0                0     314.327154     30.004760   \n",
       "\n",
       "      state_value  mail_wise_rank  csc_wise_rank  \n",
       "2268    15.151515               2              1  \n",
       "585     17.241379               2              1  \n",
       "3857    21.250000               2              1  \n",
       "1767    11.940299               0              1  \n",
       "3720    11.940299               0              1  \n",
       "...           ...             ...            ...  \n",
       "2198     6.849315               1              1  \n",
       "3786    17.241379               2              1  \n",
       "2660     6.557377               2              1  \n",
       "153     16.666667               2              1  \n",
       "168     17.241379               2              1  \n",
       "\n",
       "[850 rows x 7 columns]"
      ]
     },
     "execution_count": 86,
     "metadata": {},
     "output_type": "execute_result"
    }
   ],
   "source": [
    "X_test"
   ]
  },
  {
   "cell_type": "code",
   "execution_count": 87,
   "id": "487cbfc9-7a5b-4599-aa91-b7765e44c771",
   "metadata": {},
   "outputs": [
    {
     "data": {
      "text/html": [
       "<div>\n",
       "<style scoped>\n",
       "    .dataframe tbody tr th:only-of-type {\n",
       "        vertical-align: middle;\n",
       "    }\n",
       "\n",
       "    .dataframe tbody tr th {\n",
       "        vertical-align: top;\n",
       "    }\n",
       "\n",
       "    .dataframe thead th {\n",
       "        text-align: right;\n",
       "    }\n",
       "</style>\n",
       "<table border=\"1\" class=\"dataframe\">\n",
       "  <thead>\n",
       "    <tr style=\"text-align: right;\">\n",
       "      <th></th>\n",
       "      <th>state</th>\n",
       "      <th>value</th>\n",
       "    </tr>\n",
       "  </thead>\n",
       "  <tbody>\n",
       "    <tr>\n",
       "      <th>0</th>\n",
       "      <td>AK</td>\n",
       "      <td>6.557377</td>\n",
       "    </tr>\n",
       "    <tr>\n",
       "      <th>1</th>\n",
       "      <td>AL</td>\n",
       "      <td>12.871287</td>\n",
       "    </tr>\n",
       "    <tr>\n",
       "      <th>2</th>\n",
       "      <td>AR</td>\n",
       "      <td>15.492958</td>\n",
       "    </tr>\n",
       "    <tr>\n",
       "      <th>3</th>\n",
       "      <td>AZ</td>\n",
       "      <td>9.090909</td>\n",
       "    </tr>\n",
       "    <tr>\n",
       "      <th>4</th>\n",
       "      <td>CA</td>\n",
       "      <td>25.641026</td>\n",
       "    </tr>\n",
       "    <tr>\n",
       "      <th>5</th>\n",
       "      <td>CO</td>\n",
       "      <td>11.250000</td>\n",
       "    </tr>\n",
       "    <tr>\n",
       "      <th>6</th>\n",
       "      <td>CT</td>\n",
       "      <td>17.045455</td>\n",
       "    </tr>\n",
       "    <tr>\n",
       "      <th>7</th>\n",
       "      <td>DC</td>\n",
       "      <td>11.111111</td>\n",
       "    </tr>\n",
       "    <tr>\n",
       "      <th>8</th>\n",
       "      <td>DE</td>\n",
       "      <td>16.250000</td>\n",
       "    </tr>\n",
       "    <tr>\n",
       "      <th>9</th>\n",
       "      <td>FL</td>\n",
       "      <td>11.842105</td>\n",
       "    </tr>\n",
       "    <tr>\n",
       "      <th>10</th>\n",
       "      <td>GA</td>\n",
       "      <td>10.937500</td>\n",
       "    </tr>\n",
       "    <tr>\n",
       "      <th>11</th>\n",
       "      <td>HI</td>\n",
       "      <td>5.194805</td>\n",
       "    </tr>\n",
       "    <tr>\n",
       "      <th>12</th>\n",
       "      <td>IA</td>\n",
       "      <td>11.290323</td>\n",
       "    </tr>\n",
       "    <tr>\n",
       "      <th>13</th>\n",
       "      <td>ID</td>\n",
       "      <td>11.320755</td>\n",
       "    </tr>\n",
       "    <tr>\n",
       "      <th>14</th>\n",
       "      <td>IL</td>\n",
       "      <td>7.594937</td>\n",
       "    </tr>\n",
       "    <tr>\n",
       "      <th>15</th>\n",
       "      <td>IN</td>\n",
       "      <td>15.662651</td>\n",
       "    </tr>\n",
       "    <tr>\n",
       "      <th>16</th>\n",
       "      <td>KS</td>\n",
       "      <td>17.241379</td>\n",
       "    </tr>\n",
       "    <tr>\n",
       "      <th>17</th>\n",
       "      <td>KY</td>\n",
       "      <td>14.117647</td>\n",
       "    </tr>\n",
       "    <tr>\n",
       "      <th>18</th>\n",
       "      <td>LA</td>\n",
       "      <td>10.144928</td>\n",
       "    </tr>\n",
       "    <tr>\n",
       "      <th>19</th>\n",
       "      <td>MA</td>\n",
       "      <td>15.730337</td>\n",
       "    </tr>\n",
       "    <tr>\n",
       "      <th>20</th>\n",
       "      <td>MD</td>\n",
       "      <td>22.093023</td>\n",
       "    </tr>\n",
       "    <tr>\n",
       "      <th>21</th>\n",
       "      <td>ME</td>\n",
       "      <td>17.977528</td>\n",
       "    </tr>\n",
       "    <tr>\n",
       "      <th>22</th>\n",
       "      <td>MI</td>\n",
       "      <td>17.241379</td>\n",
       "    </tr>\n",
       "    <tr>\n",
       "      <th>23</th>\n",
       "      <td>MN</td>\n",
       "      <td>17.592593</td>\n",
       "    </tr>\n",
       "    <tr>\n",
       "      <th>24</th>\n",
       "      <td>MO</td>\n",
       "      <td>12.500000</td>\n",
       "    </tr>\n",
       "    <tr>\n",
       "      <th>25</th>\n",
       "      <td>MS</td>\n",
       "      <td>18.292683</td>\n",
       "    </tr>\n",
       "    <tr>\n",
       "      <th>26</th>\n",
       "      <td>MT</td>\n",
       "      <td>21.250000</td>\n",
       "    </tr>\n",
       "    <tr>\n",
       "      <th>27</th>\n",
       "      <td>NC</td>\n",
       "      <td>8.750000</td>\n",
       "    </tr>\n",
       "    <tr>\n",
       "      <th>28</th>\n",
       "      <td>ND</td>\n",
       "      <td>8.955224</td>\n",
       "    </tr>\n",
       "    <tr>\n",
       "      <th>29</th>\n",
       "      <td>NE</td>\n",
       "      <td>6.849315</td>\n",
       "    </tr>\n",
       "    <tr>\n",
       "      <th>30</th>\n",
       "      <td>NH</td>\n",
       "      <td>12.820513</td>\n",
       "    </tr>\n",
       "    <tr>\n",
       "      <th>31</th>\n",
       "      <td>NJ</td>\n",
       "      <td>27.083333</td>\n",
       "    </tr>\n",
       "    <tr>\n",
       "      <th>32</th>\n",
       "      <td>NM</td>\n",
       "      <td>12.820513</td>\n",
       "    </tr>\n",
       "    <tr>\n",
       "      <th>33</th>\n",
       "      <td>NV</td>\n",
       "      <td>20.481928</td>\n",
       "    </tr>\n",
       "    <tr>\n",
       "      <th>34</th>\n",
       "      <td>NY</td>\n",
       "      <td>16.666667</td>\n",
       "    </tr>\n",
       "    <tr>\n",
       "      <th>35</th>\n",
       "      <td>OH</td>\n",
       "      <td>12.631579</td>\n",
       "    </tr>\n",
       "    <tr>\n",
       "      <th>36</th>\n",
       "      <td>OK</td>\n",
       "      <td>20.512821</td>\n",
       "    </tr>\n",
       "    <tr>\n",
       "      <th>37</th>\n",
       "      <td>OR</td>\n",
       "      <td>15.151515</td>\n",
       "    </tr>\n",
       "    <tr>\n",
       "      <th>38</th>\n",
       "      <td>PA</td>\n",
       "      <td>11.940299</td>\n",
       "    </tr>\n",
       "    <tr>\n",
       "      <th>39</th>\n",
       "      <td>RI</td>\n",
       "      <td>6.896552</td>\n",
       "    </tr>\n",
       "    <tr>\n",
       "      <th>40</th>\n",
       "      <td>SC</td>\n",
       "      <td>19.444444</td>\n",
       "    </tr>\n",
       "    <tr>\n",
       "      <th>41</th>\n",
       "      <td>SD</td>\n",
       "      <td>14.666667</td>\n",
       "    </tr>\n",
       "    <tr>\n",
       "      <th>42</th>\n",
       "      <td>TN</td>\n",
       "      <td>15.189873</td>\n",
       "    </tr>\n",
       "    <tr>\n",
       "      <th>43</th>\n",
       "      <td>TX</td>\n",
       "      <td>19.387755</td>\n",
       "    </tr>\n",
       "    <tr>\n",
       "      <th>44</th>\n",
       "      <td>UT</td>\n",
       "      <td>12.371134</td>\n",
       "    </tr>\n",
       "    <tr>\n",
       "      <th>45</th>\n",
       "      <td>VA</td>\n",
       "      <td>5.000000</td>\n",
       "    </tr>\n",
       "    <tr>\n",
       "      <th>46</th>\n",
       "      <td>VT</td>\n",
       "      <td>11.627907</td>\n",
       "    </tr>\n",
       "    <tr>\n",
       "      <th>47</th>\n",
       "      <td>WA</td>\n",
       "      <td>22.500000</td>\n",
       "    </tr>\n",
       "    <tr>\n",
       "      <th>48</th>\n",
       "      <td>WI</td>\n",
       "      <td>7.446809</td>\n",
       "    </tr>\n",
       "    <tr>\n",
       "      <th>49</th>\n",
       "      <td>WV</td>\n",
       "      <td>13.669065</td>\n",
       "    </tr>\n",
       "    <tr>\n",
       "      <th>50</th>\n",
       "      <td>WY</td>\n",
       "      <td>10.526316</td>\n",
       "    </tr>\n",
       "  </tbody>\n",
       "</table>\n",
       "</div>"
      ],
      "text/plain": [
       "   state      value\n",
       "0     AK   6.557377\n",
       "1     AL  12.871287\n",
       "2     AR  15.492958\n",
       "3     AZ   9.090909\n",
       "4     CA  25.641026\n",
       "5     CO  11.250000\n",
       "6     CT  17.045455\n",
       "7     DC  11.111111\n",
       "8     DE  16.250000\n",
       "9     FL  11.842105\n",
       "10    GA  10.937500\n",
       "11    HI   5.194805\n",
       "12    IA  11.290323\n",
       "13    ID  11.320755\n",
       "14    IL   7.594937\n",
       "15    IN  15.662651\n",
       "16    KS  17.241379\n",
       "17    KY  14.117647\n",
       "18    LA  10.144928\n",
       "19    MA  15.730337\n",
       "20    MD  22.093023\n",
       "21    ME  17.977528\n",
       "22    MI  17.241379\n",
       "23    MN  17.592593\n",
       "24    MO  12.500000\n",
       "25    MS  18.292683\n",
       "26    MT  21.250000\n",
       "27    NC   8.750000\n",
       "28    ND   8.955224\n",
       "29    NE   6.849315\n",
       "30    NH  12.820513\n",
       "31    NJ  27.083333\n",
       "32    NM  12.820513\n",
       "33    NV  20.481928\n",
       "34    NY  16.666667\n",
       "35    OH  12.631579\n",
       "36    OK  20.512821\n",
       "37    OR  15.151515\n",
       "38    PA  11.940299\n",
       "39    RI   6.896552\n",
       "40    SC  19.444444\n",
       "41    SD  14.666667\n",
       "42    TN  15.189873\n",
       "43    TX  19.387755\n",
       "44    UT  12.371134\n",
       "45    VA   5.000000\n",
       "46    VT  11.627907\n",
       "47    WA  22.500000\n",
       "48    WI   7.446809\n",
       "49    WV  13.669065\n",
       "50    WY  10.526316"
      ]
     },
     "execution_count": 87,
     "metadata": {},
     "output_type": "execute_result"
    }
   ],
   "source": [
    "state_trans"
   ]
  },
  {
   "cell_type": "code",
   "execution_count": null,
   "id": "164d9bea-7ab3-4776-8cbd-f6fb9369726f",
   "metadata": {},
   "outputs": [],
   "source": []
  }
 ],
 "metadata": {
  "kernelspec": {
   "display_name": "Python 3 (ipykernel)",
   "language": "python",
   "name": "python3"
  },
  "language_info": {
   "codemirror_mode": {
    "name": "ipython",
    "version": 3
   },
   "file_extension": ".py",
   "mimetype": "text/x-python",
   "name": "python",
   "nbconvert_exporter": "python",
   "pygments_lexer": "ipython3",
   "version": "3.9.7"
  }
 },
 "nbformat": 4,
 "nbformat_minor": 5
}
